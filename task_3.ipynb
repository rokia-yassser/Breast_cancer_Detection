{
 "cells": [
  {
   "cell_type": "code",
   "execution_count": null,
   "metadata": {},
   "outputs": [
    {
     "ename": "",
     "evalue": "",
     "output_type": "error",
     "traceback": [
      "\u001b[1;31mFailed to start the Kernel. \n",
      "\u001b[1;31mUnable to start Kernel '.conda (Python 3.10.11)' due to a timeout waiting for the ports to get used. \n",
      "\u001b[1;31mView Jupyter <a href='command:jupyter.viewOutput'>log</a> for further details."
     ]
    }
   ],
   "source": [
    "import numpy as np \n",
    "import pandas as pd\n",
    "import matplotlib.pyplot as plt\n",
    "import seaborn as sns \n",
    "from sklearn.model_selection import train_test_split\n",
    "from sklearn.preprocessing import MinMaxScaler\n",
    "from sklearn.metrics import classification_report\n",
    "from sklearn.svm import SVC \n",
    "from sklearn.linear_model import LogisticRegression\n",
    "from sklearn.decomposition import PCA\n",
    "import pickle\n",
    "import joblib"
   ]
  },
  {
   "cell_type": "code",
   "execution_count": null,
   "metadata": {},
   "outputs": [],
   "source": [
    "df=pd.read_csv('breast-cancer.csv')"
   ]
  },
  {
   "cell_type": "code",
   "execution_count": null,
   "metadata": {},
   "outputs": [],
   "source": [
    "df"
   ]
  },
  {
   "cell_type": "code",
   "execution_count": null,
   "metadata": {},
   "outputs": [],
   "source": [
    "df['diagnosis'].unique()"
   ]
  },
  {
   "cell_type": "markdown",
   "metadata": {},
   "source": [
    "Target: \n",
    "M - Malignant \n",
    "B - Benign"
   ]
  },
  {
   "cell_type": "code",
   "execution_count": null,
   "metadata": {},
   "outputs": [],
   "source": [
    "df['diagnosis']=df['diagnosis'].replace({'M':1,'B':0})"
   ]
  },
  {
   "cell_type": "code",
   "execution_count": null,
   "metadata": {},
   "outputs": [],
   "source": [
    "df['diagnosis'].unique()"
   ]
  },
  {
   "cell_type": "code",
   "execution_count": null,
   "metadata": {},
   "outputs": [],
   "source": [
    "df.describe()"
   ]
  },
  {
   "cell_type": "code",
   "execution_count": null,
   "metadata": {},
   "outputs": [],
   "source": [
    "df['diagnosis'].value_counts()"
   ]
  },
  {
   "cell_type": "code",
   "execution_count": null,
   "metadata": {},
   "outputs": [],
   "source": [
    "y=df['diagnosis']\n",
    "x=df.drop(['diagnosis'],axis=1)\n",
    "modelL=LogisticRegression()\n",
    "\n",
    "x_train,x_test,y_train,y_test=train_test_split(x,y,test_size=.2,random_state=42)\n",
    "modelL.fit(x_train,y_train)\n",
    "print(modelL.score(x_train,y_train))\n",
    "print(modelL.score(x_test,y_test))"
   ]
  },
  {
   "cell_type": "code",
   "execution_count": null,
   "metadata": {},
   "outputs": [],
   "source": [
    "plt.figure(figsize=((20,15)))\n",
    "sns.heatmap(df.corr(),annot=True)"
   ]
  },
  {
   "cell_type": "code",
   "execution_count": null,
   "metadata": {},
   "outputs": [],
   "source": [
    "df.drop(['id','radius_mean','fractal_dimension_mean','texture_se','smoothness_se','fractal_dimension_se','symmetry_se'],axis=1,inplace=True)"
   ]
  },
  {
   "cell_type": "code",
   "execution_count": null,
   "metadata": {},
   "outputs": [],
   "source": [
    "plt.figure(figsize=((20,15)))\n",
    "sns.heatmap(df.corr(),annot=True)"
   ]
  },
  {
   "cell_type": "markdown",
   "metadata": {},
   "source": [
    "radius_se: Standard error of the radius (mean distance from the center to points on the perimeter) of the cell nuclei. The standard error indicates how much variation or \"error\" there is in the measurement of radius across different cells.\n",
    "\n",
    "perimeter_se: Standard error of the perimeter, which reflects the measurement error of the perimeter of the cell nuclei. Like radius_se, this value provides an estimate of variability in perimeter measurement.\n",
    "\n",
    "area_se: Standard error of the area, representing the measurement error or variability in the area of the cell nuclei.\n",
    "\n",
    "\n",
    "radius_worst: The largest mean distance from the center to points on the perimeter for cell nuclei. This represents the largest observed \"radius\" across all cells in the sample.\n",
    "\n",
    "perimeter_worst: The largest perimeter observed among the cells in the sample. This value can indicate the extremity of cell size irregularities.\n",
    "\n",
    "area_worst: The largest area measurement for cell nuclei in the sample. Malignant cells often have larger areas due to irregular growth, so this feature helps identify such characteristics.\n",
    "\n",
    "texture_worst: The largest \"texture\" value observed, which measures the variance in gray levels in the cell nuclei. Texture refers to the smoothness or roughness of the cell surface; malignant cells may exhibit a higher level of texture irregularity."
   ]
  },
  {
   "cell_type": "code",
   "execution_count": null,
   "metadata": {},
   "outputs": [],
   "source": [
    "df.columns"
   ]
  },
  {
   "cell_type": "code",
   "execution_count": null,
   "metadata": {},
   "outputs": [],
   "source": [
    "df.drop([  'smoothness_mean' ,'fractal_dimension_worst','compactness_se','texture_worst','concavity_se'],axis=1,inplace=True)"
   ]
  },
  {
   "cell_type": "code",
   "execution_count": null,
   "metadata": {},
   "outputs": [],
   "source": [
    "plt.figure(figsize=((20,15)))\n",
    "sns.heatmap(df.corr(),annot=True)"
   ]
  },
  {
   "cell_type": "code",
   "execution_count": null,
   "metadata": {},
   "outputs": [],
   "source": [
    "df.drop(['perimeter_se','concave points_mean','radius_worst' ,'compactness_mean','compactness_mean', 'area_se','perimeter_worst', 'area_worst','area_mean','perimeter_mean', 'concavity_mean','concavity_worst','compactness_worst'],axis=1,inplace=True)\n",
    "plt.figure(figsize=((15,10)))\n",
    "sns.heatmap(df.corr(),annot=True)"
   ]
  },
  {
   "cell_type": "code",
   "execution_count": null,
   "metadata": {},
   "outputs": [],
   "source": [
    "y=df['diagnosis']\n",
    "x=df.drop(['diagnosis'],axis=1)"
   ]
  },
  {
   "cell_type": "code",
   "execution_count": null,
   "metadata": {},
   "outputs": [],
   "source": [
    "model1=SVC(kernel='rbf')\n",
    "model1.fit(x_train,y_train)\n",
    "x_train,x_test,y_train,y_test=train_test_split(x,y,test_size=.2,random_state=42)\n",
    "\n",
    "print(model1.score(x_train,y_train))\n",
    "print(model1.score(x_test,y_test))"
   ]
  },
  {
   "cell_type": "code",
   "execution_count": null,
   "metadata": {},
   "outputs": [],
   "source": [
    "model2=LogisticRegression()\n",
    "x_train,x_test,y_train,y_test=train_test_split(x,y,test_size=.2,random_state=42)\n",
    "model2.fit(x_train,y_train)\n",
    "\n",
    "\n",
    "print(model2.score(x_train,y_train))\n",
    "print(model2.score(x_test,y_test))"
   ]
  },
  {
   "cell_type": "code",
   "execution_count": null,
   "metadata": {},
   "outputs": [],
   "source": [
    "scaler=MinMaxScaler()\n",
    "x_scaled=scaler.fit_transform(x)\n",
    "x_train,x_test,y_train,y_test=train_test_split(x_scaled,y,test_size=.2,random_state=42)\n",
    "\n",
    "model=LogisticRegression()\n",
    "model.fit(x_train,y_train)\n",
    "\n",
    "\n",
    "print(model.score(x_train,y_train))\n",
    "print(model.score(x_test,y_test))\n"
   ]
  },
  {
   "cell_type": "code",
   "execution_count": null,
   "metadata": {},
   "outputs": [],
   "source": [
    "\n",
    "\n",
    "joblib.dump(model, r'C:\\Users\\HP\\Desktop\\ML,DL,basics\\nti_tasks.pkl')"
   ]
  },
  {
   "cell_type": "code",
   "execution_count": null,
   "metadata": {},
   "outputs": [],
   "source": [
    "loaded_model = joblib.load(r'C:\\Users\\HP\\Desktop\\ML,DL,basics\\nti_tasks.pkl')\n",
    "print(type(loaded_model))  "
   ]
  }
 ],
 "metadata": {
  "kernelspec": {
   "display_name": "base",
   "language": "python",
   "name": "python3"
  },
  "language_info": {
   "codemirror_mode": {
    "name": "ipython",
    "version": 3
   },
   "file_extension": ".py",
   "mimetype": "text/x-python",
   "name": "python",
   "nbconvert_exporter": "python",
   "pygments_lexer": "ipython3",
   "version": "3.9.13"
  }
 },
 "nbformat": 4,
 "nbformat_minor": 2
}
